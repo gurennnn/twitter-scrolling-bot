{
 "cells": [
  {
   "cell_type": "markdown",
   "metadata": {},
   "source": [
    "# Twitter Scrolling Bot with Python and Selenium\n",
    "\n",
    "We'll go through a step by step implementation of the bot, and visualize its actions as it scrolls through the Twitter feed."
   ]
  },
  {
   "cell_type": "markdown",
   "metadata": {},
   "source": [
    "## Importing libraries"
   ]
  },
  {
   "cell_type": "code",
   "execution_count": 11,
   "metadata": {},
   "outputs": [],
   "source": [
    "from selenium import webdriver\n",
    "from selenium.webdriver.support.ui import WebDriverWait\n",
    "from selenium.webdriver.support import expected_conditions as EC\n",
    "from selenium.webdriver.common.by import By\n",
    "import pandas as pd\n",
    "import time\n",
    "from utils import *"
   ]
  },
  {
   "cell_type": "markdown",
   "metadata": {},
   "source": [
    "## Setting up the driver"
   ]
  },
  {
   "cell_type": "code",
   "execution_count": 12,
   "metadata": {},
   "outputs": [],
   "source": [
    "url = 'https://twitter.com/search?q=programming&src=typed_query'\n",
    "driver = webdriver.Chrome()\n",
    "driver.get(url)\n",
    "driver.maximize_window()"
   ]
  },
  {
   "cell_type": "code",
   "execution_count": 13,
   "metadata": {},
   "outputs": [],
   "source": [
    "login(driver)"
   ]
  },
  {
   "cell_type": "markdown",
   "metadata": {},
   "source": [
    "## Implement scrolling bot"
   ]
  },
  {
   "cell_type": "code",
   "execution_count": 14,
   "metadata": {},
   "outputs": [
    {
     "name": "stdout",
     "output_type": "stream",
     "text": [
      "3\n",
      "@KingAdedamola30\n",
      "@SecurityTrybe\n",
      "@imcalshort\n",
      "7\n",
      "@Pink.God\n",
      "@Jeande_d\n",
      "@Damn_coder\n",
      "@JackedAecus\n",
      "@UncorruptedMen\n",
      "@daboigbae\n",
      "@Parajulisaroj16\n",
      "5\n",
      "@KirkDBorne\n",
      "@dancohen3000\n",
      "@jakemancnc\n",
      "@nkanta_esther_\n",
      "@Ronna_Dewey\n"
     ]
    }
   ],
   "source": [
    "# initialize lists\n",
    "usernames = []\n",
    "texts = []\n",
    "ids = set()\n",
    "\n",
    "# scrolling condition\n",
    "scrolling = True\n",
    "\n",
    "while scrolling:\n",
    "    # locate tweets that are loaded\n",
    "    tweets = driver.find_elements_by_xpath('//article[@role=\"article\"]')\n",
    "    print(len(tweets))\n",
    "    for tweet in tweets:\n",
    "        username, text = get_username_and_text(tweet)\n",
    "        id = ''.join([username, text])\n",
    "        # check if the current tweet wasn't already retrieved\n",
    "        print(username)\n",
    "        if id not in ids:\n",
    "            ids.add(id)\n",
    "            usernames.append(username)\n",
    "            texts.append(text)\n",
    "    # scroll down after scraping the current content\n",
    "    last_height = driver.execute_script('return document.body.scrollHeight')\n",
    "    driver.execute_script('window.scrollTo(0, document.body.scrollHeight);')\n",
    "    time.sleep(2)\n",
    "    new_height = driver.execute_script('return document.body.scrollHeight')\n",
    "    # condition 1 when we reach the limit of the desired content\n",
    "    # condition 2 for reaching the end of the page\n",
    "    if (len(usernames) > 20) or (last_height == new_height): # quit scrolling\n",
    "        scrolling = False"
   ]
  },
  {
   "cell_type": "code",
   "execution_count": 15,
   "metadata": {},
   "outputs": [
    {
     "data": {
      "text/plain": [
       "['@KingAdedamola30',\n",
       " '@SecurityTrybe',\n",
       " '@imcalshort',\n",
       " '@Pink.God',\n",
       " '@Jeande_d',\n",
       " '@Damn_coder',\n",
       " '@JackedAecus',\n",
       " '@UncorruptedMen',\n",
       " '@daboigbae',\n",
       " '@Parajulisaroj16',\n",
       " '@KirkDBorne',\n",
       " '@dancohen3000',\n",
       " '@jakemancnc',\n",
       " '@nkanta_esther_',\n",
       " '@Ronna_Dewey']"
      ]
     },
     "execution_count": 15,
     "metadata": {},
     "output_type": "execute_result"
    }
   ],
   "source": [
    "usernames"
   ]
  },
  {
   "cell_type": "code",
   "execution_count": 16,
   "metadata": {},
   "outputs": [],
   "source": [
    "driver.quit()"
   ]
  },
  {
   "cell_type": "markdown",
   "metadata": {},
   "source": [
    "## Export Data to a CSV file"
   ]
  },
  {
   "cell_type": "code",
   "execution_count": 10,
   "metadata": {},
   "outputs": [],
   "source": [
    "df = pd.DataFrame({\n",
    "    'username': usernames,\n",
    "    'text': texts\n",
    "})\n",
    "df.to_csv('../data/tweets_from_notebook.csv', index=False)"
   ]
  }
 ],
 "metadata": {
  "kernelspec": {
   "display_name": "base",
   "language": "python",
   "name": "python3"
  },
  "language_info": {
   "codemirror_mode": {
    "name": "ipython",
    "version": 3
   },
   "file_extension": ".py",
   "mimetype": "text/x-python",
   "name": "python",
   "nbconvert_exporter": "python",
   "pygments_lexer": "ipython3",
   "version": "3.10.11"
  },
  "orig_nbformat": 4
 },
 "nbformat": 4,
 "nbformat_minor": 2
}
